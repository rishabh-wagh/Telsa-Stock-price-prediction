{
 "cells": [
  {
   "cell_type": "code",
   "execution_count": 1,
   "metadata": {},
   "outputs": [
    {
     "name": "stderr",
     "output_type": "stream",
     "text": [
      "Using TensorFlow backend.\n"
     ]
    }
   ],
   "source": [
    "# Importing Libraries\n",
    "\n",
    "import math\n",
    "import matplotlib.pyplot as plt\n",
    "import keras\n",
    "import numpy as np\n",
    "import pandas as pd\n",
    "from keras.models import Sequential\n",
    "from keras.layers import Dense\n",
    "from keras.layers import LSTM\n",
    "from keras.layers import Dropout\n",
    "from keras.layers import *\n",
    "from sklearn.preprocessing import MinMaxScaler\n",
    "from sklearn.metrics import mean_squared_error\n",
    "from sklearn.metrics import mean_absolute_error\n",
    "from sklearn.model_selection import train_test_split"
   ]
  },
  {
   "cell_type": "code",
   "execution_count": 2,
   "metadata": {},
   "outputs": [],
   "source": [
    "# Imporitng the Data\n",
    "data = pd.read_csv(\"TSLA.csv\")"
   ]
  },
  {
   "cell_type": "code",
   "execution_count": 3,
   "metadata": {},
   "outputs": [
    {
     "data": {
      "text/html": [
       "<div>\n",
       "<style scoped>\n",
       "    .dataframe tbody tr th:only-of-type {\n",
       "        vertical-align: middle;\n",
       "    }\n",
       "\n",
       "    .dataframe tbody tr th {\n",
       "        vertical-align: top;\n",
       "    }\n",
       "\n",
       "    .dataframe thead th {\n",
       "        text-align: right;\n",
       "    }\n",
       "</style>\n",
       "<table border=\"1\" class=\"dataframe\">\n",
       "  <thead>\n",
       "    <tr style=\"text-align: right;\">\n",
       "      <th></th>\n",
       "      <th>Date</th>\n",
       "      <th>Open</th>\n",
       "      <th>High</th>\n",
       "      <th>Low</th>\n",
       "      <th>Close</th>\n",
       "      <th>Adj Close</th>\n",
       "      <th>Volume</th>\n",
       "    </tr>\n",
       "  </thead>\n",
       "  <tbody>\n",
       "    <tr>\n",
       "      <td>0</td>\n",
       "      <td>2015-07-10</td>\n",
       "      <td>262.220001</td>\n",
       "      <td>263.000000</td>\n",
       "      <td>257.820007</td>\n",
       "      <td>259.149994</td>\n",
       "      <td>259.149994</td>\n",
       "      <td>2610900</td>\n",
       "    </tr>\n",
       "    <tr>\n",
       "      <td>1</td>\n",
       "      <td>2015-07-13</td>\n",
       "      <td>262.250000</td>\n",
       "      <td>262.549988</td>\n",
       "      <td>256.049988</td>\n",
       "      <td>262.160004</td>\n",
       "      <td>262.160004</td>\n",
       "      <td>2960300</td>\n",
       "    </tr>\n",
       "    <tr>\n",
       "      <td>2</td>\n",
       "      <td>2015-07-14</td>\n",
       "      <td>262.100006</td>\n",
       "      <td>265.989990</td>\n",
       "      <td>260.510010</td>\n",
       "      <td>265.649994</td>\n",
       "      <td>265.649994</td>\n",
       "      <td>1907600</td>\n",
       "    </tr>\n",
       "    <tr>\n",
       "      <td>3</td>\n",
       "      <td>2015-07-15</td>\n",
       "      <td>266.739990</td>\n",
       "      <td>267.489990</td>\n",
       "      <td>262.079987</td>\n",
       "      <td>263.140015</td>\n",
       "      <td>263.140015</td>\n",
       "      <td>2021600</td>\n",
       "    </tr>\n",
       "    <tr>\n",
       "      <td>4</td>\n",
       "      <td>2015-07-16</td>\n",
       "      <td>264.220001</td>\n",
       "      <td>267.200012</td>\n",
       "      <td>263.160004</td>\n",
       "      <td>266.679993</td>\n",
       "      <td>266.679993</td>\n",
       "      <td>1616000</td>\n",
       "    </tr>\n",
       "  </tbody>\n",
       "</table>\n",
       "</div>"
      ],
      "text/plain": [
       "         Date        Open        High         Low       Close   Adj Close  \\\n",
       "0  2015-07-10  262.220001  263.000000  257.820007  259.149994  259.149994   \n",
       "1  2015-07-13  262.250000  262.549988  256.049988  262.160004  262.160004   \n",
       "2  2015-07-14  262.100006  265.989990  260.510010  265.649994  265.649994   \n",
       "3  2015-07-15  266.739990  267.489990  262.079987  263.140015  263.140015   \n",
       "4  2015-07-16  264.220001  267.200012  263.160004  266.679993  266.679993   \n",
       "\n",
       "    Volume  \n",
       "0  2610900  \n",
       "1  2960300  \n",
       "2  1907600  \n",
       "3  2021600  \n",
       "4  1616000  "
      ]
     },
     "execution_count": 3,
     "metadata": {},
     "output_type": "execute_result"
    }
   ],
   "source": [
    "data.head()"
   ]
  },
  {
   "cell_type": "code",
   "execution_count": 4,
   "metadata": {},
   "outputs": [],
   "source": [
    "# Splitting the dataset into Train set and Test set\n",
    "train = data.iloc[:800,1:2].values\n",
    "test = data.iloc[800:,1:2].values"
   ]
  },
  {
   "cell_type": "code",
   "execution_count": 5,
   "metadata": {},
   "outputs": [],
   "source": [
    "# Feature Scaling\n",
    "sc = MinMaxScaler()\n",
    "train_sc = sc.fit_transform(train)"
   ]
  },
  {
   "cell_type": "markdown",
   "metadata": {},
   "source": [
    "### We will be taking privois 60 days of stocks prices to predict the stock price of each days"
   ]
  },
  {
   "cell_type": "code",
   "execution_count": 6,
   "metadata": {},
   "outputs": [],
   "source": [
    "# Crearing the Data structure \n",
    "\n",
    "x_train = []\n",
    "y_train = []\n",
    "\n",
    "for i in range (60,len(train)):\n",
    "    x_train.append(train_sc[i-60:i,0])\n",
    "    y_train.append(train_sc[i,0])\n",
    "    \n",
    "x_train,y_train = np.array(x_train), np.array(y_train)"
   ]
  },
  {
   "cell_type": "code",
   "execution_count": 7,
   "metadata": {},
   "outputs": [
    {
     "data": {
      "text/plain": [
       "740"
      ]
     },
     "execution_count": 7,
     "metadata": {},
     "output_type": "execute_result"
    }
   ],
   "source": [
    "# Reshaping the data set\n",
    "x_train = np.reshape(x_train, (x_train.shape[0], x_train.shape[1], 1))"
   ]
  },
  {
   "cell_type": "code",
   "execution_count": 13,
   "metadata": {},
   "outputs": [],
   "source": [
    "# Builiding the Model \n",
    "model = Sequential()\n",
    "\n",
    "# Input Layer\n",
    "model.add(LSTM(units= 50, return_sequences = True,input_shape = (x_train.shape[1], 1)))\n",
    "model.add(Dropout(0.2))\n",
    "\n",
    "# Hidden Layers\n",
    "model.add(LSTM(units= 50, return_sequences = True))\n",
    "model.add(Dropout(0.2))\n",
    "\n",
    "model.add(LSTM(units= 50, return_sequences = True))\n",
    "model.add(Dropout(0.2))\n",
    "\n",
    "model.add(LSTM(units= 50))\n",
    "model.add(Dropout(0.2))\n",
    "\n",
    "# Output layer\n",
    "model.add(Dense(units=1))\n",
    "\n"
   ]
  },
  {
   "cell_type": "code",
   "execution_count": 15,
   "metadata": {},
   "outputs": [],
   "source": [
    "# Compiling the RNN\n",
    "model.compile(optimizer='adam',loss='mean_squared_error')"
   ]
  },
  {
   "cell_type": "code",
   "execution_count": 16,
   "metadata": {},
   "outputs": [
    {
     "name": "stdout",
     "output_type": "stream",
     "text": [
      "Epoch 1/100\n",
      "740/740 [==============================] - 11s 15ms/step - loss: 0.0637 9s - \n",
      "Epoch 2/100\n",
      "740/740 [==============================] - 4s 6ms/step - loss: 0.0195\n",
      "Epoch 3/100\n",
      "740/740 [==============================] - 5s 6ms/step - loss: 0.0130\n",
      "Epoch 4/100\n",
      "740/740 [==============================] - 5s 6ms/step - loss: 0.0119\n",
      "Epoch 5/100\n",
      "740/740 [==============================] - 6s 7ms/step - loss: 0.0121\n",
      "Epoch 6/100\n",
      "740/740 [==============================] - 5s 7ms/step - loss: 0.0120\n",
      "Epoch 7/100\n",
      "740/740 [==============================] - 5s 6ms/step - loss: 0.0127\n",
      "Epoch 8/100\n",
      "740/740 [==============================] - 5s 6ms/step - loss: 0.0105\n",
      "Epoch 9/100\n",
      "740/740 [==============================] - 6s 7ms/step - loss: 0.0113\n",
      "Epoch 10/100\n",
      "740/740 [==============================] - 5s 7ms/step - loss: 0.0106\n",
      "Epoch 11/100\n",
      "740/740 [==============================] - 5s 7ms/step - loss: 0.0102\n",
      "Epoch 12/100\n",
      "740/740 [==============================] - 5s 7ms/step - loss: 0.0099\n",
      "Epoch 13/100\n",
      "740/740 [==============================] - 5s 7ms/step - loss: 0.0100\n",
      "Epoch 14/100\n",
      "740/740 [==============================] - 5s 6ms/step - loss: 0.0105\n",
      "Epoch 15/100\n",
      "740/740 [==============================] - 6s 8ms/step - loss: 0.0093\n",
      "Epoch 16/100\n",
      "740/740 [==============================] - 6s 8ms/step - loss: 0.0086\n",
      "Epoch 17/100\n",
      "740/740 [==============================] - 5s 7ms/step - loss: 0.0094\n",
      "Epoch 18/100\n",
      "740/740 [==============================] - 5s 6ms/step - loss: 0.0082\n",
      "Epoch 19/100\n",
      "740/740 [==============================] - 5s 7ms/step - loss: 0.0089\n",
      "Epoch 20/100\n",
      "740/740 [==============================] - 5s 6ms/step - loss: 0.0089\n",
      "Epoch 21/100\n",
      "740/740 [==============================] - 5s 6ms/step - loss: 0.0075\n",
      "Epoch 22/100\n",
      "740/740 [==============================] - 5s 6ms/step - loss: 0.0076\n",
      "Epoch 23/100\n",
      "740/740 [==============================] - 5s 7ms/step - loss: 0.0072\n",
      "Epoch 24/100\n",
      "740/740 [==============================] - 5s 6ms/step - loss: 0.0071\n",
      "Epoch 25/100\n",
      "740/740 [==============================] - 5s 6ms/step - loss: 0.0062\n",
      "Epoch 26/100\n",
      "740/740 [==============================] - 5s 7ms/step - loss: 0.0061A: 0s - loss: 0.\n",
      "Epoch 27/100\n",
      "740/740 [==============================] - 5s 6ms/step - loss: 0.0062\n",
      "Epoch 28/100\n",
      "740/740 [==============================] - 5s 6ms/step - loss: 0.0065\n",
      "Epoch 29/100\n",
      "740/740 [==============================] - 5s 7ms/step - loss: 0.0065\n",
      "Epoch 30/100\n",
      "740/740 [==============================] - 5s 6ms/step - loss: 0.0071\n",
      "Epoch 31/100\n",
      "740/740 [==============================] - 5s 7ms/step - loss: 0.0078\n",
      "Epoch 32/100\n",
      "740/740 [==============================] - 5s 7ms/step - loss: 0.0065\n",
      "Epoch 33/100\n",
      "740/740 [==============================] - 5s 6ms/step - loss: 0.0062\n",
      "Epoch 34/100\n",
      "740/740 [==============================] - 5s 6ms/step - loss: 0.0055\n",
      "Epoch 35/100\n",
      "740/740 [==============================] - 5s 7ms/step - loss: 0.0052\n",
      "Epoch 36/100\n",
      "740/740 [==============================] - 5s 6ms/step - loss: 0.0054\n",
      "Epoch 37/100\n",
      "740/740 [==============================] - 5s 6ms/step - loss: 0.0056\n",
      "Epoch 38/100\n",
      "740/740 [==============================] - 5s 6ms/step - loss: 0.0057A: 2s -\n",
      "Epoch 39/100\n",
      "740/740 [==============================] - 5s 7ms/step - loss: 0.0056A: 0s - loss: 0\n",
      "Epoch 40/100\n",
      "740/740 [==============================] - 5s 6ms/step - loss: 0.0048\n",
      "Epoch 41/100\n",
      "740/740 [==============================] - 5s 7ms/step - loss: 0.0045\n",
      "Epoch 42/100\n",
      "740/740 [==============================] - 5s 7ms/step - loss: 0.0048\n",
      "Epoch 43/100\n",
      "740/740 [==============================] - 5s 7ms/step - loss: 0.0048\n",
      "Epoch 44/100\n",
      "740/740 [==============================] - 5s 6ms/step - loss: 0.0055\n",
      "Epoch 45/100\n",
      "740/740 [==============================] - 5s 7ms/step - loss: 0.0046\n",
      "Epoch 46/100\n",
      "740/740 [==============================] - 5s 7ms/step - loss: 0.0051\n",
      "Epoch 47/100\n",
      "740/740 [==============================] - 5s 6ms/step - loss: 0.0047\n",
      "Epoch 48/100\n",
      "740/740 [==============================] - 5s 7ms/step - loss: 0.0045\n",
      "Epoch 49/100\n",
      "740/740 [==============================] - 5s 7ms/step - loss: 0.0048\n",
      "Epoch 50/100\n",
      "740/740 [==============================] - 5s 6ms/step - loss: 0.0048\n",
      "Epoch 51/100\n",
      "740/740 [==============================] - 5s 6ms/step - loss: 0.0045\n",
      "Epoch 52/100\n",
      "740/740 [==============================] - ETA: 0s - loss: 0.004 - 5s 7ms/step - loss: 0.0046\n",
      "Epoch 53/100\n",
      "740/740 [==============================] - 5s 7ms/step - loss: 0.0046\n",
      "Epoch 54/100\n",
      "740/740 [==============================] - 5s 7ms/step - loss: 0.0047\n",
      "Epoch 55/100\n",
      "740/740 [==============================] - 5s 7ms/step - loss: 0.0041\n",
      "Epoch 56/100\n",
      "740/740 [==============================] - 5s 6ms/step - loss: 0.0045\n",
      "Epoch 57/100\n",
      "740/740 [==============================] - 5s 6ms/step - loss: 0.0046\n",
      "Epoch 58/100\n",
      "740/740 [==============================] - 5s 7ms/step - loss: 0.0051\n",
      "Epoch 59/100\n",
      "740/740 [==============================] - 5s 6ms/step - loss: 0.0038\n",
      "Epoch 60/100\n",
      "740/740 [==============================] - 5s 7ms/step - loss: 0.0054\n",
      "Epoch 61/100\n",
      "740/740 [==============================] - 5s 6ms/step - loss: 0.0038\n",
      "Epoch 62/100\n",
      "740/740 [==============================] - 5s 6ms/step - loss: 0.0043\n",
      "Epoch 63/100\n",
      "740/740 [==============================] - 5s 7ms/step - loss: 0.0042\n",
      "Epoch 64/100\n",
      "740/740 [==============================] - 5s 6ms/step - loss: 0.0037\n",
      "Epoch 65/100\n",
      "740/740 [==============================] - 5s 7ms/step - loss: 0.0044\n",
      "Epoch 66/100\n",
      "740/740 [==============================] - 5s 7ms/step - loss: 0.0041\n",
      "Epoch 67/100\n",
      "740/740 [==============================] - 5s 6ms/step - loss: 0.0039\n",
      "Epoch 68/100\n",
      "740/740 [==============================] - 5s 7ms/step - loss: 0.0036\n",
      "Epoch 69/100\n",
      "740/740 [==============================] - 5s 7ms/step - loss: 0.0036\n",
      "Epoch 70/100\n",
      "740/740 [==============================] - 5s 6ms/step - loss: 0.0038\n",
      "Epoch 71/100\n",
      "740/740 [==============================] - 5s 7ms/step - loss: 0.0034\n",
      "Epoch 72/100\n",
      "740/740 [==============================] - 5s 7ms/step - loss: 0.0038\n",
      "Epoch 73/100\n",
      "740/740 [==============================] - 5s 6ms/step - loss: 0.0037\n",
      "Epoch 74/100\n",
      "740/740 [==============================] - 5s 6ms/step - loss: 0.0042\n",
      "Epoch 75/100\n",
      "740/740 [==============================] - 5s 7ms/step - loss: 0.0039\n",
      "Epoch 76/100\n",
      "740/740 [==============================] - 5s 6ms/step - loss: 0.0042\n",
      "Epoch 77/100\n",
      "740/740 [==============================] - 5s 7ms/step - loss: 0.0038\n",
      "Epoch 78/100\n",
      "740/740 [==============================] - 5s 7ms/step - loss: 0.0033\n",
      "Epoch 79/100\n",
      "740/740 [==============================] - 5s 6ms/step - loss: 0.0033\n",
      "Epoch 80/100\n",
      "740/740 [==============================] - 5s 7ms/step - loss: 0.0042A\n",
      "Epoch 81/100\n",
      "740/740 [==============================] - 5s 6ms/step - loss: 0.0034\n",
      "Epoch 82/100\n",
      "740/740 [==============================] - 5s 6ms/step - loss: 0.0041\n",
      "Epoch 83/100\n",
      "740/740 [==============================] - 5s 6ms/step - loss: 0.0035\n",
      "Epoch 84/100\n",
      "740/740 [==============================] - 5s 7ms/step - loss: 0.0033\n",
      "Epoch 85/100\n",
      "740/740 [==============================] - 5s 7ms/step - loss: 0.0033\n",
      "Epoch 86/100\n",
      "740/740 [==============================] - 5s 7ms/step - loss: 0.0032\n",
      "Epoch 87/100\n",
      "740/740 [==============================] - 5s 7ms/step - loss: 0.0031\n",
      "Epoch 88/100\n",
      "740/740 [==============================] - 5s 7ms/step - loss: 0.0030\n",
      "Epoch 89/100\n",
      "740/740 [==============================] - 5s 6ms/step - loss: 0.0035\n",
      "Epoch 90/100\n",
      "740/740 [==============================] - 5s 7ms/step - loss: 0.0031\n",
      "Epoch 91/100\n",
      "740/740 [==============================] - 5s 7ms/step - loss: 0.0029\n",
      "Epoch 92/100\n",
      "740/740 [==============================] - 5s 6ms/step - loss: 0.0030\n",
      "Epoch 93/100\n",
      "740/740 [==============================] - 5s 7ms/step - loss: 0.0028\n",
      "Epoch 94/100\n",
      "740/740 [==============================] - 5s 7ms/step - loss: 0.0033\n",
      "Epoch 95/100\n",
      "740/740 [==============================] - 5s 6ms/step - loss: 0.0033\n",
      "Epoch 96/100\n",
      "740/740 [==============================] - 5s 7ms/step - loss: 0.0030\n",
      "Epoch 97/100\n",
      "740/740 [==============================] - 5s 7ms/step - loss: 0.0032\n",
      "Epoch 98/100\n",
      "740/740 [==============================] - 5s 7ms/step - loss: 0.0031\n"
     ]
    },
    {
     "name": "stdout",
     "output_type": "stream",
     "text": [
      "Epoch 99/100\n",
      "740/740 [==============================] - 5s 7ms/step - loss: 0.0030\n",
      "Epoch 100/100\n",
      "740/740 [==============================] - 5s 6ms/step - loss: 0.0029\n"
     ]
    },
    {
     "data": {
      "text/plain": [
       "<keras.callbacks.callbacks.History at 0x1793171f5c8>"
      ]
     },
     "execution_count": 16,
     "metadata": {},
     "output_type": "execute_result"
    }
   ],
   "source": [
    "# Training the model\n",
    "model.fit(x_train,y_train,epochs=100,batch_size=32)"
   ]
  },
  {
   "cell_type": "code",
   "execution_count": 25,
   "metadata": {},
   "outputs": [],
   "source": [
    "# Preapring the Test Data set\n",
    "\n",
    "train = data.iloc[:800,1:2]\n",
    "test = data.iloc[800:,1:2]\n",
    "\n",
    "data_set = pd.concat((train,test),axis=0)\n",
    "\n",
    "inputs = data_set[len(data_set)-len(test)-60:].values\n"
   ]
  },
  {
   "cell_type": "code",
   "execution_count": 26,
   "metadata": {},
   "outputs": [],
   "source": [
    "# Reshaping the test data for predict method\n",
    "\n",
    "inputs = inputs.reshape(-1,1)\n",
    "inputs = sc.transform(inputs)\n"
   ]
  },
  {
   "cell_type": "code",
   "execution_count": 28,
   "metadata": {},
   "outputs": [],
   "source": [
    "# Preparing the final data to be tested\n",
    "\n",
    "x_test = []\n",
    "for i in range(60,len(inputs)):\n",
    "    x_test.append(inputs[i-60:i,0])\n",
    "    \n",
    "x_test = np.array(x_test)\n",
    "x_test = np.reshape(x_test,(x_test.shape[0],x_test.shape[1],1))"
   ]
  },
  {
   "cell_type": "code",
   "execution_count": 37,
   "metadata": {},
   "outputs": [],
   "source": [
    "# Prediction\n",
    "\n",
    "Predicted_sp = model.predict(x_test)\n",
    "Predicted_sp = sc.inverse_transform(Predicted_sp)"
   ]
  },
  {
   "cell_type": "code",
   "execution_count": 39,
   "metadata": {},
   "outputs": [
    {
     "data": {
      "image/png": "[encoded data removed]",
      "text/plain": [
       "<Figure size 1440x720 with 1 Axes>"
      ]
     },
     "metadata": {
      "needs_background": "light"
     },
     "output_type": "display_data"
    }
   ],
   "source": [
    "# Visualising the results\n",
    "plt.figure(figsize=(20,10))\n",
    "plt.plot(data.loc[800:, 'Date'],test.values, color = 'red', label = 'Real TESLA Stock Price')\n",
    "plt.plot(data.loc[800:, 'Date'],Predicted_sp, color = 'blue', label = 'Predicted TESLA Stock Price')\n",
    "plt.xticks(np.arange(0,459,50))\n",
    "plt.title('TESLA Stock Price Prediction')\n",
    "plt.xlabel('Time')\n",
    "plt.ylabel('TESLA Stock Price')\n",
    "plt.legend()\n",
    "plt.show()"
   ]
  },
  {
   "cell_type": "code",
   "execution_count": null,
   "metadata": {},
   "outputs": [],
   "source": []
  }
 ],
 "metadata": {
  "kernelspec": {
   "display_name": "Python 3",
   "language": "python",
   "name": "python3"
  },
  "language_info": {
   "codemirror_mode": {
    "name": "ipython",
    "version": 3
   },
   "file_extension": ".py",
   "mimetype": "text/x-python",
   "name": "python",
   "nbconvert_exporter": "python",
   "pygments_lexer": "ipython3",
   "version": "3.7.4"
  }
 },
 "nbformat": 4,
 "nbformat_minor": 2
}
